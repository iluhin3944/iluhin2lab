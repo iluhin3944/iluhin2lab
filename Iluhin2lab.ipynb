{
 "cells": [
  {
   "cell_type": "code",
   "execution_count": 1,
   "id": "6b0263f3",
   "metadata": {},
   "outputs": [
    {
     "name": "stdout",
     "output_type": "stream",
     "text": [
      "Варіант індивідуального завдання 2\n"
     ]
    }
   ],
   "source": [
    "N = (12 + 4) % 5 + 1\n",
    "print(\"Варіант індивідуального завдання \" + str(N))"
   ]
  },
  {
   "cell_type": "markdown",
   "id": "06cadd32",
   "metadata": {},
   "source": [
    "**Номери вправ для варіанту 2: 3, 4, 5, 8, 9, 11, 12, 13, 14, 16, 17, 18, 19, 20, 22, 23, 24, 27**"
   ]
  },
  {
   "cell_type": "code",
   "execution_count": 2,
   "id": "c664bf54",
   "metadata": {},
   "outputs": [],
   "source": [
    "import pandas as pd\n",
    "\n",
    "df = pd.read_csv(\"NationalNames.csv\")"
   ]
  },
  {
   "cell_type": "code",
   "execution_count": 3,
   "id": "2190cf28",
   "metadata": {},
   "outputs": [
    {
     "name": "stdout",
     "output_type": "stream",
     "text": [
      "Index(['Id', 'Name', 'Year', 'Gender', 'Count'], dtype='object')\n"
     ]
    }
   ],
   "source": [
    "# 3. Отримайте імена стовпців набору даних\n",
    "\n",
    "print(df.columns)"
   ]
  },
  {
   "cell_type": "code",
   "execution_count": 4,
   "id": "a3510506",
   "metadata": {},
   "outputs": [
    {
     "data": {
      "text/html": [
       "<div>\n",
       "<style scoped>\n",
       "    .dataframe tbody tr th:only-of-type {\n",
       "        vertical-align: middle;\n",
       "    }\n",
       "\n",
       "    .dataframe tbody tr th {\n",
       "        vertical-align: top;\n",
       "    }\n",
       "\n",
       "    .dataframe thead th {\n",
       "        text-align: right;\n",
       "    }\n",
       "</style>\n",
       "<table border=\"1\" class=\"dataframe\">\n",
       "  <thead>\n",
       "    <tr style=\"text-align: right;\">\n",
       "      <th></th>\n",
       "      <th>Id</th>\n",
       "      <th>Year</th>\n",
       "      <th>Count</th>\n",
       "    </tr>\n",
       "  </thead>\n",
       "  <tbody>\n",
       "    <tr>\n",
       "      <th>count</th>\n",
       "      <td>1.825433e+06</td>\n",
       "      <td>1.825433e+06</td>\n",
       "      <td>1.825433e+06</td>\n",
       "    </tr>\n",
       "    <tr>\n",
       "      <th>mean</th>\n",
       "      <td>9.127170e+05</td>\n",
       "      <td>1.972620e+03</td>\n",
       "      <td>1.846879e+02</td>\n",
       "    </tr>\n",
       "    <tr>\n",
       "      <th>std</th>\n",
       "      <td>5.269573e+05</td>\n",
       "      <td>3.352891e+01</td>\n",
       "      <td>1.566711e+03</td>\n",
       "    </tr>\n",
       "    <tr>\n",
       "      <th>min</th>\n",
       "      <td>1.000000e+00</td>\n",
       "      <td>1.880000e+03</td>\n",
       "      <td>5.000000e+00</td>\n",
       "    </tr>\n",
       "    <tr>\n",
       "      <th>25%</th>\n",
       "      <td>4.563590e+05</td>\n",
       "      <td>1.949000e+03</td>\n",
       "      <td>7.000000e+00</td>\n",
       "    </tr>\n",
       "    <tr>\n",
       "      <th>50%</th>\n",
       "      <td>9.127170e+05</td>\n",
       "      <td>1.982000e+03</td>\n",
       "      <td>1.200000e+01</td>\n",
       "    </tr>\n",
       "    <tr>\n",
       "      <th>75%</th>\n",
       "      <td>1.369075e+06</td>\n",
       "      <td>2.001000e+03</td>\n",
       "      <td>3.200000e+01</td>\n",
       "    </tr>\n",
       "    <tr>\n",
       "      <th>max</th>\n",
       "      <td>1.825433e+06</td>\n",
       "      <td>2.014000e+03</td>\n",
       "      <td>9.968000e+04</td>\n",
       "    </tr>\n",
       "  </tbody>\n",
       "</table>\n",
       "</div>"
      ],
      "text/plain": [
       "                 Id          Year         Count\n",
       "count  1.825433e+06  1.825433e+06  1.825433e+06\n",
       "mean   9.127170e+05  1.972620e+03  1.846879e+02\n",
       "std    5.269573e+05  3.352891e+01  1.566711e+03\n",
       "min    1.000000e+00  1.880000e+03  5.000000e+00\n",
       "25%    4.563590e+05  1.949000e+03  7.000000e+00\n",
       "50%    9.127170e+05  1.982000e+03  1.200000e+01\n",
       "75%    1.369075e+06  2.001000e+03  3.200000e+01\n",
       "max    1.825433e+06  2.014000e+03  9.968000e+04"
      ]
     },
     "execution_count": 4,
     "metadata": {},
     "output_type": "execute_result"
    }
   ],
   "source": [
    "# 4. Отримайте загальну інформацію про дані у наборі даних.\n",
    "\n",
    "df.describe()"
   ]
  },
  {
   "cell_type": "code",
   "execution_count": 5,
   "id": "59ff6440",
   "metadata": {},
   "outputs": [
    {
     "data": {
      "text/plain": [
       "93889"
      ]
     },
     "execution_count": 5,
     "metadata": {},
     "output_type": "execute_result"
    }
   ],
   "source": [
    "# 5. Знайдіть кількість унікальних імен у наборі даних\n",
    "\n",
    "df['Name'].nunique()"
   ]
  },
  {
   "cell_type": "code",
   "execution_count": 6,
   "id": "6022f59e",
   "metadata": {},
   "outputs": [
    {
     "name": "stdout",
     "output_type": "stream",
     "text": [
      "The name is 'Linda' in 1947\n"
     ]
    }
   ],
   "source": [
    "# 8. Знайдіть найпопулярніше ім’я за результатами одного року (ім’я, для якого Count максимальне)\n",
    "\n",
    "max_count_row = df.loc[df['Count'].idxmax()]\n",
    "most_popular_name = max_count_row['Name']\n",
    "year_of_max_count = max_count_row['Year']\n",
    "print(f\"The name is '{most_popular_name}' in {year_of_max_count}\")"
   ]
  },
  {
   "cell_type": "code",
   "execution_count": 7,
   "id": "ee2d53a2",
   "metadata": {},
   "outputs": [
    {
     "name": "stdout",
     "output_type": "stream",
     "text": [
      "254615\n"
     ]
    }
   ],
   "source": [
    "# 9. Підрахуйте кількість записів, для яких Count - мінімальне у наборі.\n",
    "\n",
    "min_count = df['Count'].min()\n",
    "min_count_records = df[df['Count'] == min_count].shape[0]\n",
    "print(min_count_records)"
   ]
  },
  {
   "cell_type": "code",
   "execution_count": 8,
   "id": "d6efc9c0",
   "metadata": {},
   "outputs": [
    {
     "data": {
      "text/html": [
       "<div>\n",
       "<style scoped>\n",
       "    .dataframe tbody tr th:only-of-type {\n",
       "        vertical-align: middle;\n",
       "    }\n",
       "\n",
       "    .dataframe tbody tr th {\n",
       "        vertical-align: top;\n",
       "    }\n",
       "\n",
       "    .dataframe thead th {\n",
       "        text-align: right;\n",
       "    }\n",
       "</style>\n",
       "<table border=\"1\" class=\"dataframe\">\n",
       "  <thead>\n",
       "    <tr style=\"text-align: right;\">\n",
       "      <th></th>\n",
       "      <th>Name</th>\n",
       "    </tr>\n",
       "    <tr>\n",
       "      <th>Year</th>\n",
       "      <th></th>\n",
       "    </tr>\n",
       "  </thead>\n",
       "  <tbody>\n",
       "    <tr>\n",
       "      <th>2008</th>\n",
       "      <td>32488</td>\n",
       "    </tr>\n",
       "  </tbody>\n",
       "</table>\n",
       "</div>"
      ],
      "text/plain": [
       "       Name\n",
       "Year       \n",
       "2008  32488"
      ]
     },
     "execution_count": 8,
     "metadata": {},
     "output_type": "execute_result"
    }
   ],
   "source": [
    "# 11. Знайдіть рік із найбільшою кількістю унікальних імен.\n",
    "\n",
    "unique_names_per_year = df.groupby('Year')['Name'].nunique()\n",
    "\n",
    "year_max_names = unique_names_per_year.idxmax()\n",
    "max_names = unique_names_per_year.max()\n",
    "\n",
    "result_df = pd.DataFrame({'Year': [year_max_names], 'Name': [max_names]})\n",
    "\n",
    "result_df.set_index('Year')"
   ]
  },
  {
   "cell_type": "code",
   "execution_count": 9,
   "id": "b1f2ba94",
   "metadata": {},
   "outputs": [
    {
     "data": {
      "text/plain": [
       "'Jacob'"
      ]
     },
     "execution_count": 9,
     "metadata": {},
     "output_type": "execute_result"
    }
   ],
   "source": [
    "# 12. Знайдіть найпопулярніше ім’я в році з найбільшою кількістю унікальних імен (тобто у 2008 році)\n",
    "\n",
    "year_max_names = df.groupby('Year')['Name'].nunique().idxmax()\n",
    "\n",
    "df_2008 = df[df['Year'] == year_max_names]\n",
    "\n",
    "most_popular_name = df_2008.groupby('Name')['Count'].sum().idxmax()\n",
    "\n",
    "most_popular_name"
   ]
  },
  {
   "cell_type": "code",
   "execution_count": 10,
   "id": "37c52a25",
   "metadata": {},
   "outputs": [
    {
     "data": {
      "text/html": [
       "<div>\n",
       "<style scoped>\n",
       "    .dataframe tbody tr th:only-of-type {\n",
       "        vertical-align: middle;\n",
       "    }\n",
       "\n",
       "    .dataframe tbody tr th {\n",
       "        vertical-align: top;\n",
       "    }\n",
       "\n",
       "    .dataframe thead th {\n",
       "        text-align: right;\n",
       "    }\n",
       "</style>\n",
       "<table border=\"1\" class=\"dataframe\">\n",
       "  <thead>\n",
       "    <tr style=\"text-align: right;\">\n",
       "      <th></th>\n",
       "      <th>Id</th>\n",
       "      <th>Name</th>\n",
       "      <th>Year</th>\n",
       "      <th>Gender</th>\n",
       "      <th>Count</th>\n",
       "    </tr>\n",
       "  </thead>\n",
       "  <tbody>\n",
       "    <tr>\n",
       "      <th>1455556</th>\n",
       "      <td>1455557</td>\n",
       "      <td>Jacob</td>\n",
       "      <td>2004</td>\n",
       "      <td>F</td>\n",
       "      <td>171</td>\n",
       "    </tr>\n",
       "  </tbody>\n",
       "</table>\n",
       "</div>"
      ],
      "text/plain": [
       "              Id   Name  Year Gender Count\n",
       "1455556  1455557  Jacob  2004      F   171"
      ]
     },
     "execution_count": 10,
     "metadata": {},
     "output_type": "execute_result"
    }
   ],
   "source": [
    "# 13. Знайдіть рік, коли ім’я “Jacob” було найпопулярнішим серед жіночих імен\n",
    "\n",
    "jacob_female_name = df[(df['Name'] == 'Jacob') & (df['Gender'] == 'F')]\n",
    "\n",
    "most_popular_year = jacob_female_name.loc[jacob_female_name['Count'].idxmax()]\n",
    "\n",
    "most_popular_year.to_frame().T"
   ]
  },
  {
   "cell_type": "code",
   "execution_count": 11,
   "id": "19f4072b",
   "metadata": {},
   "outputs": [
    {
     "data": {
      "text/html": [
       "<div>\n",
       "<style scoped>\n",
       "    .dataframe tbody tr th:only-of-type {\n",
       "        vertical-align: middle;\n",
       "    }\n",
       "\n",
       "    .dataframe tbody tr th {\n",
       "        vertical-align: top;\n",
       "    }\n",
       "\n",
       "    .dataframe thead th {\n",
       "        text-align: right;\n",
       "    }\n",
       "</style>\n",
       "<table border=\"1\" class=\"dataframe\">\n",
       "  <thead>\n",
       "    <tr style=\"text-align: right;\">\n",
       "      <th></th>\n",
       "      <th>Gender_neutral_names</th>\n",
       "    </tr>\n",
       "    <tr>\n",
       "      <th>Year</th>\n",
       "      <th></th>\n",
       "    </tr>\n",
       "  </thead>\n",
       "  <tbody>\n",
       "    <tr>\n",
       "      <th>2008</th>\n",
       "      <td>2557</td>\n",
       "    </tr>\n",
       "  </tbody>\n",
       "</table>\n",
       "</div>"
      ],
      "text/plain": [
       "      Gender_neutral_names\n",
       "Year                      \n",
       "2008                  2557"
      ]
     },
     "execution_count": 11,
     "metadata": {},
     "output_type": "execute_result"
    }
   ],
   "source": [
    "# 14. Знайти рік із найбільшою кількістю гендерно нейтральних імен (однакові чоловічі та жіночі імена)\n",
    "\n",
    "gender_neutral = df.groupby(['Year', 'Name'])['Gender'].nunique().reset_index()\n",
    "gender_neutral = gender_neutral[gender_neutral['Gender'] == 2]\n",
    "yearly_neutral_counts = gender_neutral.groupby('Year').size().reset_index(name='Gender_neutral_names')\n",
    "\n",
    "most_neutral_year = yearly_neutral_counts.loc[yearly_neutral_counts['Gender_neutral_names'].idxmax()]\n",
    "most_neutral_year.to_frame().T.set_index('Year')"
   ]
  },
  {
   "cell_type": "code",
   "execution_count": 12,
   "id": "be82142e",
   "metadata": {},
   "outputs": [
    {
     "data": {
      "text/plain": [
       "np.int64(1957)"
      ]
     },
     "execution_count": 12,
     "metadata": {},
     "output_type": "execute_result"
    }
   ],
   "source": [
    "# 16. Знайдіть рік, коли народилося найбільше дітей\n",
    "\n",
    "total_births_by_year = df.pivot_table(values='Count', index='Year', aggfunc='sum')\n",
    "max_birth_year = total_births_by_year['Count'].idxmax()\n",
    "\n",
    "max_birth_year"
   ]
  },
  {
   "cell_type": "code",
   "execution_count": 13,
   "id": "c06e8ddd",
   "metadata": {},
   "outputs": [
    {
     "data": {
      "text/html": [
       "<div>\n",
       "<style scoped>\n",
       "    .dataframe tbody tr th:only-of-type {\n",
       "        vertical-align: middle;\n",
       "    }\n",
       "\n",
       "    .dataframe tbody tr th {\n",
       "        vertical-align: top;\n",
       "    }\n",
       "\n",
       "    .dataframe thead th {\n",
       "        text-align: right;\n",
       "    }\n",
       "</style>\n",
       "<table border=\"1\" class=\"dataframe\">\n",
       "  <thead>\n",
       "    <tr style=\"text-align: right;\">\n",
       "      <th>Gender</th>\n",
       "      <th>F</th>\n",
       "      <th>M</th>\n",
       "    </tr>\n",
       "    <tr>\n",
       "      <th>Year</th>\n",
       "      <th></th>\n",
       "      <th></th>\n",
       "    </tr>\n",
       "  </thead>\n",
       "  <tbody>\n",
       "    <tr>\n",
       "      <th>1880</th>\n",
       "      <td>90993</td>\n",
       "      <td>110491</td>\n",
       "    </tr>\n",
       "    <tr>\n",
       "      <th>1881</th>\n",
       "      <td>91954</td>\n",
       "      <td>100745</td>\n",
       "    </tr>\n",
       "    <tr>\n",
       "      <th>1882</th>\n",
       "      <td>107850</td>\n",
       "      <td>113688</td>\n",
       "    </tr>\n",
       "    <tr>\n",
       "      <th>1883</th>\n",
       "      <td>112321</td>\n",
       "      <td>104629</td>\n",
       "    </tr>\n",
       "    <tr>\n",
       "      <th>1884</th>\n",
       "      <td>129022</td>\n",
       "      <td>114445</td>\n",
       "    </tr>\n",
       "  </tbody>\n",
       "</table>\n",
       "</div>"
      ],
      "text/plain": [
       "Gender       F       M\n",
       "Year                  \n",
       "1880     90993  110491\n",
       "1881     91954  100745\n",
       "1882    107850  113688\n",
       "1883    112321  104629\n",
       "1884    129022  114445"
      ]
     },
     "execution_count": 13,
     "metadata": {},
     "output_type": "execute_result"
    }
   ],
   "source": [
    "# 17. Знайдіть кількість дівчаток та хлопчиків, які народились кожного року\n",
    "\n",
    "births_per_year_gender = df.pivot_table(values='Count', index='Year', columns='Gender', aggfunc='sum')\n",
    "\n",
    "births_per_year_gender.head()"
   ]
  },
  {
   "cell_type": "code",
   "execution_count": 14,
   "id": "e9ad4a14",
   "metadata": {},
   "outputs": [
    {
     "data": {
      "text/plain": [
       "np.int64(54)"
      ]
     },
     "execution_count": 14,
     "metadata": {},
     "output_type": "execute_result"
    }
   ],
   "source": [
    "# 18. Підрахуйте кількість років, коли дівчаток народжувалось більше, ніж хлопчиків.\n",
    "\n",
    "births_per_year_gender = df.pivot_table(values='Count', index='Year', columns='Gender', aggfunc='sum')\n",
    "years_more_girls = (births_per_year_gender['F'] > births_per_year_gender['M']).sum()\n",
    "\n",
    "years_more_girls"
   ]
  },
  {
   "cell_type": "code",
   "execution_count": 15,
   "id": "b755b34c",
   "metadata": {},
   "outputs": [
    {
     "data": {
      "image/png": "[encoded data removed]",
      "text/plain": [
       "<Figure size 1000x500 with 1 Axes>"
      ]
     },
     "metadata": {},
     "output_type": "display_data"
    }
   ],
   "source": [
    "# 19. Накресліть графік загальної кількості народжень хлопчиків та дівчаток на рік.\n",
    "\n",
    "import matplotlib.pyplot as plt\n",
    "\n",
    "births_per_year_gender = df.groupby(['Year', 'Gender'])['Count'].sum().unstack()\n",
    "\n",
    "plt.figure(figsize=(10, 5))\n",
    "plt.plot(births_per_year_gender.index, births_per_year_gender['F'], label='Girls', color='red')\n",
    "plt.plot(births_per_year_gender.index, births_per_year_gender['M'], label='Boys', color='green')\n",
    "\n",
    "plt.xlabel('Year')\n",
    "plt.ylabel('total births per year')\n",
    "\n",
    "plt.legend()\n",
    "plt.show()"
   ]
  },
  {
   "cell_type": "code",
   "execution_count": 16,
   "id": "9ed97fe5",
   "metadata": {},
   "outputs": [
    {
     "data": {
      "text/plain": [
       "10221"
      ]
     },
     "execution_count": 16,
     "metadata": {},
     "output_type": "execute_result"
    }
   ],
   "source": [
    "# 20. Підрахуйте кількість гендерно нейтральних імен (однакових для дівчат та хлопців)\n",
    "\n",
    "female_names = df[df['Gender'] == 'F']['Name'].unique()\n",
    "male_names = df[df['Gender'] == 'M']['Name'].unique()\n",
    "\n",
    "neutral_names = set(female_names) & set(male_names)\n",
    "neutral_names_count = len(neutral_names)\n",
    "\n",
    "neutral_names_count"
   ]
  },
  {
   "cell_type": "code",
   "execution_count": 17,
   "id": "43b95693",
   "metadata": {},
   "outputs": [
    {
     "data": {
      "text/plain": [
       "135"
      ]
     },
     "execution_count": 17,
     "metadata": {},
     "output_type": "execute_result"
    }
   ],
   "source": [
    "# 22. Підрахуйте скільки років проводилось спостереження\n",
    "\n",
    "observation_years = df['Year'].nunique()\n",
    "\n",
    "observation_years"
   ]
  },
  {
   "cell_type": "code",
   "execution_count": 18,
   "id": "d7d99e66",
   "metadata": {},
   "outputs": [
    {
     "name": "stdout",
     "output_type": "stream",
     "text": [
      "Name\n",
      "Toy       9\n",
      "Delane    9\n",
      "Arie      8\n",
      "Ermal     7\n",
      "Amory     7\n",
      "         ..\n",
      "Zia       1\n",
      "Zenith    1\n",
      "Zell      1\n",
      "Zaylyn    1\n",
      "Zayde     1\n",
      "Length: 1956, dtype: int64\n"
     ]
    }
   ],
   "source": [
    "# 23. Знати найпопулярніші гендерно-нейтральні імена (ті, що присутні кожного року)\n",
    "\n",
    "name_counts = df.groupby(['Name', 'Year', 'Gender'])['Count'].sum().unstack(fill_value = 0)\n",
    "gender_neutral_names = name_counts[name_counts['M'] == name_counts['F']]\n",
    "\n",
    "neutral_names_present_in_every_year = gender_neutral_names.groupby('Name').size()\n",
    "\n",
    "most_popular_neutral_names = neutral_names_present_in_every_year.sort_values(ascending = False)\n",
    "\n",
    "print(most_popular_neutral_names)"
   ]
  },
  {
   "cell_type": "code",
   "execution_count": 19,
   "id": "c2bf0df2",
   "metadata": {},
   "outputs": [
    {
     "name": "stdout",
     "output_type": "stream",
     "text": [
      "Найбільш популярне серед непопулярних імен - Aayana, кількість разів: 99.\n"
     ]
    }
   ],
   "source": [
    "# 24. Знайти найпопулярніше серед непопулярних імен (непопулярне ім’я, яким називали дітей найбільшу кількість разів)\n",
    "\n",
    "total_name_counts = df.groupby('Name')['Count'].sum()\n",
    "\n",
    "unpopular_names = total_name_counts[total_name_counts < 100]\n",
    "\n",
    "most_popular_unpopular_name = unpopular_names.idxmax()\n",
    "most_popular_unpopular_count = unpopular_names[most_popular_unpopular_name]\n",
    "\n",
    "print(f\"Найбільш популярне серед непопулярних імен - {most_popular_unpopular_name}, кількість разів: {most_popular_unpopular_count}.\")"
   ]
  },
  {
   "cell_type": "code",
   "execution_count": 20,
   "id": "a92d81d6",
   "metadata": {},
   "outputs": [
    {
     "data": {
      "text/html": [
       "<div>\n",
       "<style scoped>\n",
       "    .dataframe tbody tr th:only-of-type {\n",
       "        vertical-align: middle;\n",
       "    }\n",
       "\n",
       "    .dataframe tbody tr th {\n",
       "        vertical-align: top;\n",
       "    }\n",
       "\n",
       "    .dataframe thead th {\n",
       "        text-align: right;\n",
       "    }\n",
       "</style>\n",
       "<table border=\"1\" class=\"dataframe\">\n",
       "  <thead>\n",
       "    <tr style=\"text-align: right;\">\n",
       "      <th></th>\n",
       "      <th>Year</th>\n",
       "      <th>Gender</th>\n",
       "      <th>Name</th>\n",
       "      <th>Count</th>\n",
       "    </tr>\n",
       "  </thead>\n",
       "  <tbody>\n",
       "    <tr>\n",
       "      <th>0</th>\n",
       "      <td>1880</td>\n",
       "      <td>F</td>\n",
       "      <td>Mary</td>\n",
       "      <td>7065</td>\n",
       "    </tr>\n",
       "    <tr>\n",
       "      <th>1</th>\n",
       "      <td>1880</td>\n",
       "      <td>M</td>\n",
       "      <td>John</td>\n",
       "      <td>9655</td>\n",
       "    </tr>\n",
       "    <tr>\n",
       "      <th>2</th>\n",
       "      <td>1881</td>\n",
       "      <td>F</td>\n",
       "      <td>Mary</td>\n",
       "      <td>6919</td>\n",
       "    </tr>\n",
       "    <tr>\n",
       "      <th>3</th>\n",
       "      <td>1881</td>\n",
       "      <td>M</td>\n",
       "      <td>John</td>\n",
       "      <td>8769</td>\n",
       "    </tr>\n",
       "    <tr>\n",
       "      <th>4</th>\n",
       "      <td>1882</td>\n",
       "      <td>F</td>\n",
       "      <td>Mary</td>\n",
       "      <td>8148</td>\n",
       "    </tr>\n",
       "    <tr>\n",
       "      <th>...</th>\n",
       "      <td>...</td>\n",
       "      <td>...</td>\n",
       "      <td>...</td>\n",
       "      <td>...</td>\n",
       "    </tr>\n",
       "    <tr>\n",
       "      <th>265</th>\n",
       "      <td>2012</td>\n",
       "      <td>M</td>\n",
       "      <td>Jacob</td>\n",
       "      <td>19030</td>\n",
       "    </tr>\n",
       "    <tr>\n",
       "      <th>266</th>\n",
       "      <td>2013</td>\n",
       "      <td>F</td>\n",
       "      <td>Sophia</td>\n",
       "      <td>21147</td>\n",
       "    </tr>\n",
       "    <tr>\n",
       "      <th>267</th>\n",
       "      <td>2013</td>\n",
       "      <td>M</td>\n",
       "      <td>Noah</td>\n",
       "      <td>18179</td>\n",
       "    </tr>\n",
       "    <tr>\n",
       "      <th>268</th>\n",
       "      <td>2014</td>\n",
       "      <td>F</td>\n",
       "      <td>Emma</td>\n",
       "      <td>20799</td>\n",
       "    </tr>\n",
       "    <tr>\n",
       "      <th>269</th>\n",
       "      <td>2014</td>\n",
       "      <td>M</td>\n",
       "      <td>Noah</td>\n",
       "      <td>19144</td>\n",
       "    </tr>\n",
       "  </tbody>\n",
       "</table>\n",
       "<p>270 rows × 4 columns</p>\n",
       "</div>"
      ],
      "text/plain": [
       "     Year Gender    Name  Count\n",
       "0    1880      F    Mary   7065\n",
       "1    1880      M    John   9655\n",
       "2    1881      F    Mary   6919\n",
       "3    1881      M    John   8769\n",
       "4    1882      F    Mary   8148\n",
       "..    ...    ...     ...    ...\n",
       "265  2012      M   Jacob  19030\n",
       "266  2013      F  Sophia  21147\n",
       "267  2013      M    Noah  18179\n",
       "268  2014      F    Emma  20799\n",
       "269  2014      M    Noah  19144\n",
       "\n",
       "[270 rows x 4 columns]"
      ]
     },
     "execution_count": 20,
     "metadata": {},
     "output_type": "execute_result"
    }
   ],
   "source": [
    "# 27. Знайти найпопулярніші імена в кожному році.\n",
    "\n",
    "most_popular_names = df.loc[df.groupby(['Year', 'Gender'])['Count'].idxmax()]\n",
    "most_popular_names = most_popular_names[['Year', 'Gender', 'Name', 'Count']].reset_index(drop=True)\n",
    "\n",
    "most_popular_names"
   ]
  },
  {
   "cell_type": "code",
   "execution_count": null,
   "id": "64d927e5",
   "metadata": {},
   "outputs": [],
   "source": []
  }
 ],
 "metadata": {
  "kernelspec": {
   "display_name": "Python 3 (ipykernel)",
   "language": "python",
   "name": "python3"
  },
  "language_info": {
   "codemirror_mode": {
    "name": "ipython",
    "version": 3
   },
   "file_extension": ".py",
   "mimetype": "text/x-python",
   "name": "python",
   "nbconvert_exporter": "python",
   "pygments_lexer": "ipython3",
   "version": "3.13.1"
  }
 },
 "nbformat": 4,
 "nbformat_minor": 5
}
